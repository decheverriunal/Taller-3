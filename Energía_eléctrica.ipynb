{
  "nbformat": 4,
  "nbformat_minor": 0,
  "metadata": {
    "colab": {
      "provenance": []
    },
    "kernelspec": {
      "name": "python3",
      "display_name": "Python 3"
    },
    "language_info": {
      "name": "python"
    }
  },
  "cells": [
    {
      "cell_type": "code",
      "source": [
        "!pip install pulp\n"
      ],
      "metadata": {
        "colab": {
          "base_uri": "https://localhost:8080/"
        },
        "id": "-Wc2PK2zQa7h",
        "outputId": "fd21b287-3cbf-4fa5-fbbe-4944ee91def4"
      },
      "execution_count": null,
      "outputs": [
        {
          "output_type": "stream",
          "name": "stdout",
          "text": [
            "Collecting pulp\n",
            "  Downloading PuLP-2.9.0-py3-none-any.whl.metadata (5.4 kB)\n",
            "Downloading PuLP-2.9.0-py3-none-any.whl (17.7 MB)\n",
            "\u001b[2K   \u001b[90m━━━━━━━━━━━━━━━━━━━━━━━━━━━━━━━━━━━━━━━━\u001b[0m \u001b[32m17.7/17.7 MB\u001b[0m \u001b[31m73.8 MB/s\u001b[0m eta \u001b[36m0:00:00\u001b[0m\n",
            "\u001b[?25hInstalling collected packages: pulp\n",
            "Successfully installed pulp-2.9.0\n"
          ]
        }
      ]
    },
    {
      "cell_type": "code",
      "source": [
        "import pulp\n",
        "print(pulp.__version__)  # Para verificar que está instalada correctamente\n"
      ],
      "metadata": {
        "colab": {
          "base_uri": "https://localhost:8080/"
        },
        "id": "gdJCUROUQgaY",
        "outputId": "f2d26b14-9478-49f9-d54b-3473f4f1a309"
      },
      "execution_count": null,
      "outputs": [
        {
          "output_type": "stream",
          "name": "stdout",
          "text": [
            "2.9.0\n"
          ]
        }
      ]
    },
    {
      "cell_type": "code",
      "source": [
        "import pulp\n",
        "import pandas as pd\n",
        "\n",
        "# Datos\n",
        "supply = {\"Planta C\": 3, \"Planta B\": 6, \"Planta M\": 5, \"Planta B2\": 4}\n",
        "demand = {\"Cali\": 4, \"Bogotá\": 3, \"Medellín\": 5, \"Barranquilla\": 3}\n",
        "cost = {\n",
        "    (\"Planta C\", \"Cali\"): 1, (\"Planta C\", \"Bogotá\"): 4, (\"Planta C\", \"Medellín\"): 3, (\"Planta C\", \"Barranquilla\"): 6,\n",
        "    (\"Planta B\", \"Cali\"): 3, (\"Planta B\", \"Bogotá\"): 1, (\"Planta B\", \"Medellín\"): 4, (\"Planta B\", \"Barranquilla\"): 5,\n",
        "    (\"Planta M\", \"Cali\"): 4, (\"Planta M\", \"Bogotá\"): 4, (\"Planta M\", \"Medellín\"): 1, (\"Planta M\", \"Barranquilla\"): 4,\n",
        "    (\"Planta B2\", \"Cali\"): 6, (\"Planta B2\", \"Bogotá\"): 5, (\"Planta B2\", \"Medellín\"): 4, (\"Planta B2\", \"Barranquilla\"): 1\n",
        "}\n",
        "gen_cost = {\"Planta C\": 680, \"Planta B\": 720, \"Planta M\": 660, \"Planta B2\": 750}\n",
        "\n",
        "# Problema de transporte\n",
        "problem = pulp.LpProblem(\"Minimizar_Costos_Transporte\", pulp.LpMinimize)\n",
        "\n",
        "# Variables de decisión\n",
        "routes = pulp.LpVariable.dicts(\"Route\", cost.keys(), lowBound=0, cat=\"Continuous\")\n",
        "\n",
        "# Función objetivo\n",
        "problem += pulp.lpSum([routes[(plant, city)] * cost[(plant, city)] for plant, city in cost])\n",
        "\n",
        "# Restricciones de oferta\n",
        "for plant in supply:\n",
        "    problem += pulp.lpSum([routes[(plant, city)] for city in demand]) <= supply[plant], f\"Supply_{plant}\"\n",
        "\n",
        "# Restricciones de demanda\n",
        "for city in demand:\n",
        "    problem += pulp.lpSum([routes[(plant, city)] for plant in supply]) == demand[city], f\"Demand_{city}\"\n",
        "\n",
        "# Resolver el problema\n",
        "problem.solve()\n",
        "\n",
        "# Crear tabla de resultados\n",
        "results = []\n",
        "for (plant, city), var in routes.items():\n",
        "    if var.varValue > 0:\n",
        "        results.append({\n",
        "            \"Planta\": plant,\n",
        "            \"Ciudad\": city,\n",
        "            \"Energía (GW)\": var.varValue,\n",
        "            \"Costo Transporte ($)\": var.varValue * cost[(plant, city)],\n",
        "            \"Costo Generación ($)\": var.varValue * gen_cost[plant]\n",
        "        })\n",
        "\n",
        "# Convertir resultados en DataFrame\n",
        "df = pd.DataFrame(results)\n",
        "df[\"Costo Total ($)\"] = df[\"Costo Transporte ($)\"] + df[\"Costo Generación ($)\"]\n",
        "\n",
        "# Mostrar tabla\n",
        "print(df)\n",
        "\n",
        "# Mostrar costos totales\n",
        "total_cost = df[\"Costo Total ($)\"].sum()\n",
        "print(f\"\\nCosto total del suministro: ${total_cost:,.2f}\")\n"
      ],
      "metadata": {
        "colab": {
          "base_uri": "https://localhost:8080/"
        },
        "id": "nbOX4bxxRK9v",
        "outputId": "7e04c55d-20bf-469d-cac5-874548833a20"
      },
      "execution_count": null,
      "outputs": [
        {
          "output_type": "stream",
          "name": "stdout",
          "text": [
            "      Planta        Ciudad  Energía (GW)  Costo Transporte ($)  \\\n",
            "0   Planta C          Cali           3.0                   3.0   \n",
            "1   Planta B          Cali           1.0                   3.0   \n",
            "2   Planta B        Bogotá           3.0                   3.0   \n",
            "3   Planta M      Medellín           5.0                   5.0   \n",
            "4  Planta B2  Barranquilla           3.0                   3.0   \n",
            "\n",
            "   Costo Generación ($)  Costo Total ($)  \n",
            "0                2040.0           2043.0  \n",
            "1                 720.0            723.0  \n",
            "2                2160.0           2163.0  \n",
            "3                3300.0           3305.0  \n",
            "4                2250.0           2253.0  \n",
            "\n",
            "Costo total del suministro: $10,487.00\n"
          ]
        }
      ]
    }
  ]
}